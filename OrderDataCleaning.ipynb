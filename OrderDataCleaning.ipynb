{
 "cells": [
  {
   "cell_type": "code",
   "execution_count": 21,
   "id": "a9494cbd-4cd8-4268-867e-7eb86be7952c",
   "metadata": {},
   "outputs": [],
   "source": [
    "import pandas as pd\n",
    "\n",
    "file_names = [\n",
    "    'Data/Orders301123.csv', 'Data/Orders011223.csv', 'Data/Orders031223.csv',\n",
    "    'Data/Orders041223.csv', 'Data/Orders051223.csv', 'Data/Orders061223.csv',\n",
    "    'Data/Orders071223.csv'\n",
    "]\n",
    "\n",
    "# Create an empty list to store DataFrames\n",
    "dfs = []\n",
    "\n",
    "# Read each file and store the DataFrames in a list\n",
    "for file in file_names:\n",
    "    date = file.split('Orders')[1].split('.')[0]  # Extract date from file name\n",
    "    df = pd.read_csv(file)\n",
    "    df['Date'] = pd.to_datetime(date, format='%d%m%y')  # Create a 'Date' column\n",
    "    dfs.append(df)\n",
    "\n",
    "# Concatenate all DataFrames into one\n",
    "concatenated_df = pd.concat(dfs, ignore_index=True)\n",
    "\n",
    "# Optionally, sort by date\n",
    "concatenated_df.sort_values('Date', inplace=True)\n",
    "\n",
    "# Now, concatenated_df contains the merged data from all files\n"
   ]
  },
  {
   "cell_type": "code",
   "execution_count": 22,
   "id": "73666e1c-2796-4928-967b-ff8d94195598",
   "metadata": {},
   "outputs": [],
   "source": [
    "# Rename columns using rename() method\n",
    "concatenated_df = concatenated_df.rename(columns={\n",
    "    'PICK_GROUP_NAME': 'Delivery Run',\n",
    "    'Textbox75': 'Total Lines',\n",
    "    'Textbox78': 'Picked Lines',\n",
    "    'Textbox26': 'Completed (%)',\n",
    "    'psid': '# of Orders', \n",
    "    'psid1': 'Picked Orders', \n",
    "    'QTY_ORDERED': 'Units Ordered',\n",
    "    'QTY_PICKED': 'Units Picked'\n",
    "    # Add more columns to rename as needed\n",
    "})\n",
    "\n",
    "# Drop columns using drop() method\n",
    "columns_to_drop = ['Group_Pickers', 'Textbox76', 'Textbox79', 'Textbox27',\n",
    "                  'Textbox64', 'Textbox82', 'Textbox60', 'Textbox61']\n",
    "concatenated_df = concatenated_df.drop(columns=columns_to_drop)\n",
    "\n",
    "\n",
    "# Now, concatenated_df has renamed columns and dropped specified columns\n"
   ]
  },
  {
   "cell_type": "code",
   "execution_count": 23,
   "id": "7880df82-9b9f-468d-bf99-b7443ce415c3",
   "metadata": {},
   "outputs": [],
   "source": [
    "# Drop rows with NaN values in the 'PICK_GROUP_NAME' column\n",
    "concatenated_df = concatenated_df.dropna(subset=['Delivery Run'])\n",
    "\n",
    "# Filter rows based on specified strings in 'PICK_GROUP_NAME' column\n",
    "concatenated_df = concatenated_df[~concatenated_df['Delivery Run'].str.contains('Chiller|Dry|Freezer|Shed|PICK_GROUP_NAME2', case=False)]\n",
    "\n",
    "# Assuming you have concatenated_df from the previous example\n",
    "\n",
    "\n"
   ]
  },
  {
   "cell_type": "code",
   "execution_count": 24,
   "id": "cc9092ca-e060-4d9a-9d77-dc4601096cad",
   "metadata": {},
   "outputs": [],
   "source": [
    "concatenated_df.to_csv('combined_week1_order_data.csv', index=False)"
   ]
  },
  {
   "cell_type": "markdown",
   "id": "34520551-68ee-4123-9c11-c1dfeba81a92",
   "metadata": {},
   "source": [
    "### Week 2 ###\n"
   ]
  },
  {
   "cell_type": "code",
   "execution_count": 25,
   "id": "ca598e26-afc1-4793-975f-de6524e0a649",
   "metadata": {},
   "outputs": [],
   "source": [
    "file_names2 = [\n",
    "     'Data/Orders081223.csv','Data/Orders101223.csv', 'Data/Orders111223.csv','Data/Orders121223.csv', 'Data/Orders131223.csv', 'Data/Orders141223.csv', 'Data/Orders141223.csv'\n",
    "]\n",
    "\n",
    "# Create an empty list to store DataFrames\n",
    "dfs2 = []\n",
    "\n",
    "# Read each file and store the DataFrames in a list\n",
    "for file in file_names2:\n",
    "    date = file.split('Orders')[1].split('.')[0]  # Extract date from file name\n",
    "    df2 = pd.read_csv(file)\n",
    "    df2['Date'] = pd.to_datetime(date, format='%d%m%y')  # Create a 'Date' column\n",
    "    dfs2.append(df2)\n",
    "\n",
    "# Concatenate all DataFrames into one\n",
    "concatenated_df2 = pd.concat(dfs2, ignore_index=True)\n",
    "\n",
    "# Optionally, sort by date\n",
    "concatenated_df2.sort_values('Date', inplace=True)\n",
    "\n",
    "# Now, concatenated_df contains the merged data from all files"
   ]
  },
  {
   "cell_type": "code",
   "execution_count": 26,
   "id": "61336281-526a-42dd-860b-7a630aba6388",
   "metadata": {},
   "outputs": [],
   "source": [
    "# Rename columns using rename() method\n",
    "concatenated_df2 = concatenated_df2.rename(columns={\n",
    "    'PICK_GROUP_NAME': 'Delivery Run',\n",
    "    'Textbox75': 'Total Lines',\n",
    "    'Textbox78': 'Picked Lines',\n",
    "    'Textbox26': 'Completed (%)',\n",
    "    'psid': '# of Orders', \n",
    "    'psid1': 'Picked Orders', \n",
    "    'QTY_ORDERED': 'Units Ordered',\n",
    "    'QTY_PICKED': 'Units Picked'\n",
    "    # Add more columns to rename as needed\n",
    "})\n",
    "\n",
    "# Drop columns using drop() method\n",
    "columns_to_drop2 = ['Group_Pickers', 'Textbox76', 'Textbox79', 'Textbox27',\n",
    "                  'Textbox64', 'Textbox82', 'Textbox60', 'Textbox61']\n",
    "concatenated_df2 = concatenated_df2.drop(columns=columns_to_drop2)"
   ]
  },
  {
   "cell_type": "code",
   "execution_count": 29,
   "id": "6b053c56-1aeb-4901-bacc-df2edd425f82",
   "metadata": {},
   "outputs": [],
   "source": [
    "# Drop rows with NaN values in the 'PICK_GROUP_NAME' column\n",
    "concatenated_df2 = concatenated_df2.dropna(subset=['Delivery Run'])\n",
    "\n",
    "# Filter rows based on specified strings in 'PICK_GROUP_NAME' column\n",
    "concatenated_df2 = concatenated_df2[~concatenated_df2['Delivery Run'].str.contains('Chiller|Dry|Freezer|Shed|PICK_GROUP_NAME2', case=False)]\n",
    "\n",
    "# Assuming you have concatenated_df from the previous example"
   ]
  },
  {
   "cell_type": "code",
   "execution_count": 30,
   "id": "a12f616c-8cc5-4d2c-9a38-4ee50ff7ec82",
   "metadata": {},
   "outputs": [],
   "source": [
    "concatenated_df2.to_csv('combined_week2_order_data.csv', index=False)"
   ]
  },
  {
   "cell_type": "code",
   "execution_count": null,
   "id": "5253e63e-3b99-4a45-8842-928b9d408bef",
   "metadata": {},
   "outputs": [],
   "source": []
  },
  {
   "cell_type": "code",
   "execution_count": null,
   "id": "ca231cc9-d9d4-4351-a950-49b22ea4dcae",
   "metadata": {},
   "outputs": [],
   "source": []
  }
 ],
 "metadata": {
  "kernelspec": {
   "display_name": "Python 3 (ipykernel)",
   "language": "python",
   "name": "python3"
  },
  "language_info": {
   "codemirror_mode": {
    "name": "ipython",
    "version": 3
   },
   "file_extension": ".py",
   "mimetype": "text/x-python",
   "name": "python",
   "nbconvert_exporter": "python",
   "pygments_lexer": "ipython3",
   "version": "3.10.13"
  }
 },
 "nbformat": 4,
 "nbformat_minor": 5
}
