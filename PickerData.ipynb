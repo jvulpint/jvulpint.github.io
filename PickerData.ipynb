{
 "cells": [
  {
   "cell_type": "code",
   "execution_count": 1,
   "id": "fcb0fa47-b536-4e91-ac03-b33a43199a5b",
   "metadata": {},
   "outputs": [],
   "source": [
    "import pandas as pd"
   ]
  },
  {
   "cell_type": "code",
   "execution_count": 6,
   "id": "42f28aee-409d-426c-b2ff-6e51027de6bd",
   "metadata": {},
   "outputs": [],
   "source": [
    "#List of file names \n",
    "\n",
    "file_names = ['Data/Pickers011223.csv','Data/Pickers021223.csv','Data/Pickers031223.csv','Data/Pickers041223.csv','Data/Pickers051223.csv',\n",
    "              'Data/Pickers061223.csv','Data/Pickers071223.csv','Data/Pickers081223.csv']\n"
   ]
  },
  {
   "cell_type": "code",
   "execution_count": 7,
   "id": "cff11759-a014-44c4-957b-d2dea0765ed5",
   "metadata": {},
   "outputs": [],
   "source": [
    "dataframes = []\n",
    "\n",
    "#loop each file read csv and append to list\n",
    "\n",
    "for day, file_name in enumerate(file_names, start=1):\n",
    "    df = pd.read_csv(file_name)\n",
    "    df['Day_of_Week'] = day # assuming day is an integer representing day of the week \n",
    "    dataframes.append(df)\n",
    "\n",
    "combined_data = pd.concat(dataframes, ignore_index=True)\n",
    "\n"
   ]
  },
  {
   "cell_type": "code",
   "execution_count": 8,
   "id": "5f365f58-a8d3-4856-a949-8579d840747a",
   "metadata": {},
   "outputs": [],
   "source": [
    "combined_data.to_csv('combined_week1_data.csv', index=False)"
   ]
  },
  {
   "cell_type": "code",
   "execution_count": 25,
   "id": "28f1a883-e837-475f-9375-6ddcec1e11ed",
   "metadata": {},
   "outputs": [
    {
     "name": "stdout",
     "output_type": "stream",
     "text": [
      "Index(['user_name', 'First_Pick_Started', 'minutes_picking',\n",
      "       'Last_Pick_Completed', 'Items_Per_Hour', 'Items/hr(Shift)',\n",
      "       'Lines_Per_Hour2', 'Lines/hr(Shift)', 'Hours_Picking', 'Total_Lines',\n",
      "       'Total_Items', 'Pct_Lines', 'Day_of_Week'],\n",
      "      dtype='object')\n"
     ]
    }
   ],
   "source": [
    "#rename columns\n",
    "\n",
    "combined_data = combined_data.rename(columns={'Textbox9': 'Items/hr(Shift)', 'Textbox4': 'Lines/hr(Shift)'})\n",
    "\n",
    "#Drop columns \n",
    "columns_to_drop = ['Textbox25', 'Textbox27', 'Textbox10',\n",
    "       'Textbox34', 'Textbox29', 'Textbox30', 'Textbox31', 'Textbox32',\n",
    "       'Textbox33']\n",
    "combined_data = combined_data.drop(columns = columns_to_drop)\n",
    "print(combined_data.columns)\n",
    "#drop rows with specific user_names\n",
    "\n",
    "user_names_to_drop = ['jesset', 'samt']\n",
    "combined_data = combined_data[~combined_data['user_name'].isin(user_names_to_drop)]\n",
    "\n",
    "combined_data.to_csv('Picker_DecWk1_data.csv', index=False)"
   ]
  },
  {
   "cell_type": "code",
   "execution_count": 2,
   "id": "64bfb484-85b5-4a8a-b1e2-263fb84abd8c",
   "metadata": {},
   "outputs": [],
   "source": [
    "file_namesWk2 = ['Data/Pickers101223.csv', 'Data/Pickers111223.csv', 'Data/Pickers121223.csv', 'Data/Pickers131223.csv', 'Data/Pickers141223.csv', 'Data/Pickers151223.csv']\n"
   ]
  },
  {
   "cell_type": "code",
   "execution_count": 6,
   "id": "051e4a7d-d6b3-42ba-86fc-8a3e8d1ea95a",
   "metadata": {},
   "outputs": [
    {
     "name": "stdout",
     "output_type": "stream",
     "text": [
      "Index(['user_name', 'First_Pick_Started', 'minutes_picking',\n",
      "       'Last_Pick_Completed', 'Items_Per_Hour', 'Items/hr(Shift)',\n",
      "       'Lines_Per_Hour2', 'Lines/hr(Shift)', 'Hours_Picking', 'Total_Lines',\n",
      "       'Total_Items', 'Pct_Lines', 'Day_of_Week'],\n",
      "      dtype='object')\n"
     ]
    }
   ],
   "source": [
    "dataframes2 = []\n",
    "\n",
    "#loop each file read csv and append to list\n",
    "\n",
    "for day, file_name in enumerate(file_namesWk2, start=1):\n",
    "    df = pd.read_csv(file_name)\n",
    "    df['Day_of_Week'] = day # assuming day is an integer representing day of the week \n",
    "    dataframes2.append(df)\n",
    "\n",
    "combined_data2 = pd.concat(dataframes2, ignore_index=True)\n",
    "#rename columns\n",
    "\n",
    "combined_data2 = combined_data2.rename(columns={'Textbox9': 'Items/hr(Shift)', 'Textbox4': 'Lines/hr(Shift)'})\n",
    "#Drop columns \n",
    "columns_to_drop2 = ['Textbox25', 'Textbox27', 'Textbox10',\n",
    "       'Textbox34', 'Textbox29', 'Textbox30', 'Textbox31', 'Textbox32',\n",
    "       'Textbox33']\n",
    "combined_data2 = combined_data2.drop(columns = columns_to_drop2)\n",
    "print(combined_data2.columns)\n",
    "#drop rows with specific user_names\n",
    "\n",
    "user_names_to_drop2 = ['jesset', 'samt']\n",
    "combined_data2 = combined_data2[~combined_data2['user_name'].isin(user_names_to_drop2)]"
   ]
  },
  {
   "cell_type": "code",
   "execution_count": 7,
   "id": "a3739f06-1ff3-4cce-81ac-63e1287b0008",
   "metadata": {},
   "outputs": [],
   "source": [
    "combined_data2.to_csv('Picker_DecWk2_data.csv', index=False)"
   ]
  },
  {
   "cell_type": "code",
   "execution_count": 9,
   "id": "65797b0b-0c99-424c-9576-fc95a619e367",
   "metadata": {},
   "outputs": [],
   "source": [
    "file_namesWk3 = ['Data/Pickers171223.csv', 'Data/Pickers181223.csv', 'Data/Pickers191223.csv', 'Data/Pickers201223.csv', 'Data/Pickers211223.csv', 'Data/Pickers221223.csv']\n"
   ]
  },
  {
   "cell_type": "code",
   "execution_count": 12,
   "id": "b42e90d1-07ea-43a7-a2f2-41569e94bff9",
   "metadata": {},
   "outputs": [
    {
     "name": "stdout",
     "output_type": "stream",
     "text": [
      "Index(['user_name', 'First_Pick_Started', 'minutes_picking',\n",
      "       'Last_Pick_Completed', 'Items_Per_Hour', 'Items/hr(Shift)',\n",
      "       'Lines_Per_Hour2', 'Lines/hr(Shift)', 'Hours_Picking', 'Total_Lines',\n",
      "       'Total_Items', 'Pct_Lines', 'Day_of_Week'],\n",
      "      dtype='object')\n"
     ]
    }
   ],
   "source": [
    "dataframes3 = []\n",
    "\n",
    "#loop each file read csv and append to list\n",
    "\n",
    "for day, file_name in enumerate(file_namesWk3, start=1):\n",
    "    df = pd.read_csv(file_name)\n",
    "    df['Day_of_Week'] = day # assuming day is an integer representing day of the week \n",
    "    dataframes3.append(df)\n",
    "\n",
    "combined_data3 = pd.concat(dataframes3, ignore_index=True)\n",
    "#rename columns\n",
    "\n",
    "combined_data3 = combined_data3.rename(columns={'Textbox9': 'Items/hr(Shift)', 'Textbox4': 'Lines/hr(Shift)'})\n",
    "#Drop columns \n",
    "columns_to_drop3 = ['Textbox25', 'Textbox27', 'Textbox10',\n",
    "       'Textbox34', 'Textbox29', 'Textbox30', 'Textbox31', 'Textbox32',\n",
    "       'Textbox33']\n",
    "combined_data3 = combined_data3.drop(columns = columns_to_drop3)\n",
    "print(combined_data3.columns)\n",
    "#drop rows with specific user_names\n",
    "\n",
    "user_names_to_drop3 = ['jesset', 'samt', 'MeaganH']\n",
    "combined_data3 = combined_data3[~combined_data3['user_name'].isin(user_names_to_drop3)]"
   ]
  },
  {
   "cell_type": "code",
   "execution_count": 13,
   "id": "249b14a5-f3a7-420e-afe9-635d5ea50f4a",
   "metadata": {},
   "outputs": [],
   "source": [
    "combined_data3.to_csv('Picker_DecWk3_data.csv', index=False)"
   ]
  },
  {
   "cell_type": "code",
   "execution_count": 2,
   "id": "335147ca-44e8-4f0f-864f-2173e8a97933",
   "metadata": {},
   "outputs": [],
   "source": [
    "#List of file names \n",
    "\n",
    "file_namesWk4 = ['Data/Pickers251223.csv','Data/Pickers261223.csv','Data/Pickers271223.csv','Data/Pickers281223.csv', 'Data/Pickers291223.csv']\n"
   ]
  },
  {
   "cell_type": "code",
   "execution_count": 7,
   "id": "d38e809a-d1da-4efa-9620-2dc59e887184",
   "metadata": {},
   "outputs": [
    {
     "name": "stdout",
     "output_type": "stream",
     "text": [
      "Index(['user_name', 'First_Pick_Started', 'minutes_picking',\n",
      "       'Last_Pick_Completed', 'Items_Per_Hour', 'Items/hr(Shift)',\n",
      "       'Lines_Per_Hour2', 'Lines/hr(Shift)', 'Hours_Picking', 'Total_Lines',\n",
      "       'Total_Items', 'Pct_Lines', 'Day_of_Week'],\n",
      "      dtype='object')\n"
     ]
    }
   ],
   "source": [
    "dataframes4 = []\n",
    "\n",
    "#loop each file read csv and append to list\n",
    "\n",
    "for day, file_name in enumerate(file_namesWk4, start=1):\n",
    "    df = pd.read_csv(file_name)\n",
    "    df['Day_of_Week'] = day # assuming day is an integer representing day of the week \n",
    "    dataframes4.append(df)\n",
    "\n",
    "combined_data4 = pd.concat(dataframes4, ignore_index=True)\n",
    "#rename columns\n",
    "\n",
    "combined_data4 = combined_data4.rename(columns={'Textbox9': 'Items/hr(Shift)', 'Textbox4': 'Lines/hr(Shift)'})\n",
    "#Drop columns \n",
    "columns_to_drop4 = ['Textbox25', 'Textbox27', 'Textbox10',\n",
    "       'Textbox34', 'Textbox29', 'Textbox30', 'Textbox31', 'Textbox32',\n",
    "       'Textbox33']\n",
    "combined_data4 = combined_data4.drop(columns = columns_to_drop4)\n",
    "print(combined_data4.columns)\n",
    "#drop rows with specific user_names\n",
    "\n",
    "user_names_to_drop4 = ['jesset', 'samt', 'MeaganH']\n",
    "combined_data4 = combined_data4[~combined_data4['user_name'].isin(user_names_to_drop4)]"
   ]
  },
  {
   "cell_type": "code",
   "execution_count": 8,
   "id": "150d7d1a-ca10-4708-ad0d-7b3892917355",
   "metadata": {},
   "outputs": [],
   "source": [
    "combined_data4.to_csv('Picker_DecWk4_data.csv', index=False)"
   ]
  },
  {
   "cell_type": "markdown",
   "id": "42f8b2b7-8fb2-46c9-9f8f-a3ae8c4ddd6c",
   "metadata": {},
   "source": [
    "### DECEMBER OVERALL ###"
   ]
  },
  {
   "cell_type": "code",
   "execution_count": 2,
   "id": "1bbc10e1-e88e-4d41-adbd-d186d4c4e980",
   "metadata": {},
   "outputs": [],
   "source": [
    "#List of file names \n",
    "\n",
    "file_namesTot = ['Weekly/Night_Stats_Wk1.csv', 'Weekly/Night_Stats_Wk2.csv','Weekly/Night_Stats_Wk3.csv', 'Weekly/Night_Stats_Wk4.csv', 'Weekly/Day_Stats_Wk1.csv', \n",
    "                 'Weekly/Day_Stats_Wk2.csv', 'Weekly/Day_Stats_Wk3.csv', 'Weekly/Day_Stats_Wk4.csv']\n"
   ]
  },
  {
   "cell_type": "code",
   "execution_count": 9,
   "id": "9bea9ac2-3510-4fbf-a9f9-6e11fe1ef4c0",
   "metadata": {},
   "outputs": [],
   "source": [
    "import pandas as pd\n",
    "\n",
    "# List of filenames\n",
    "file_list = [\n",
    "    'Weekly/Night_Stats_Wk1.csv', 'Weekly/Night_Stats_Wk2.csv', 'Weekly/Night_Stats_Wk3.csv', 'Weekly/Night_Stats_Wk4.csv',\n",
    "    'Weekly/Day_Stats_Wk1.csv', 'Weekly/Day_Stats_Wk2.csv', 'Weekly/Day_Stats_Wk3.csv', 'Weekly/Day_Stats_Wk4.csv'\n",
    "]\n",
    "\n",
    "# Combine all CSV files into a single DataFrame\n",
    "combined_data = pd.concat((pd.read_csv(f) for f in file_list))\n",
    "\n",
    "# Write the combined data to a new CSV file\n",
    "combined_data.to_csv('combined_monthly_data.csv', index=False)\n"
   ]
  },
  {
   "cell_type": "code",
   "execution_count": null,
   "id": "f21f572a-2557-42ba-b7d6-62470fb7204d",
   "metadata": {},
   "outputs": [],
   "source": []
  }
 ],
 "metadata": {
  "kernelspec": {
   "display_name": "Python 3 (ipykernel)",
   "language": "python",
   "name": "python3"
  },
  "language_info": {
   "codemirror_mode": {
    "name": "ipython",
    "version": 3
   },
   "file_extension": ".py",
   "mimetype": "text/x-python",
   "name": "python",
   "nbconvert_exporter": "python",
   "pygments_lexer": "ipython3",
   "version": "3.10.13"
  }
 },
 "nbformat": 4,
 "nbformat_minor": 5
}
